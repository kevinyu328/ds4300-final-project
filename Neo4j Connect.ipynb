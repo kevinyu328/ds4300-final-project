{
 "cells": [
  {
   "cell_type": "code",
   "execution_count": 14,
   "id": "0a220b88",
   "metadata": {},
   "outputs": [],
   "source": [
    "\n",
    "\n",
    "from py2neo import Graph \n",
    "from py2neo import GraphService\n",
    "\n"
   ]
  },
  {
   "cell_type": "code",
   "execution_count": 29,
   "id": "776e97bd",
   "metadata": {},
   "outputs": [],
   "source": [
    "with open('password.txt') as f:\n",
    "    lines = f.readlines()\n",
    "    \n",
    "p = lines[0]\n",
    "\n",
    "gs = GraphService(\"bolt://localhost:7687\", user=\"neo4j\", password=p)\n",
    "graph = gs.default_graph"
   ]
  },
  {
   "cell_type": "code",
   "execution_count": 49,
   "id": "90567149",
   "metadata": {},
   "outputs": [],
   "source": [
    "def get_counts_word(word) :\n",
    "    \"\"\"\n",
    "    Gets the postive, negative, counts for the given word\n",
    "    \n",
    "    \"\"\"\n",
    "    node = graph.run(\"MATCH (n {label: '\"+ word+ \"'})return n\")\n",
    "    for x in node:\n",
    "        for y in x:\n",
    "            return (y['pos_count'],y['neg_count'])"
   ]
  },
  {
   "cell_type": "code",
   "execution_count": 48,
   "id": "e9b5886c",
   "metadata": {},
   "outputs": [
    {
     "data": {
      "text/plain": [
       "('4387', '1061')"
      ]
     },
     "execution_count": 48,
     "metadata": {},
     "output_type": "execute_result"
    }
   ],
   "source": [
    "get_counts_word('hello')"
   ]
  },
  {
   "cell_type": "code",
   "execution_count": 67,
   "id": "085b3100",
   "metadata": {},
   "outputs": [],
   "source": [
    "def get_sentiment_sentence(sentence) :\n",
    "    \"\"\"\n",
    "    Calculates Sentiment of Sentence by averaging for each word: Positive / Total , then the average for \n",
    "    all words in sentence is the sentiment.\n",
    "    \n",
    "    \"\"\"\n",
    "    average_sentiment_words = []\n",
    "    for x in sentence.split(): \n",
    "        word_tup = get_counts_word(x.lower())\n",
    "        if word_tup is None : \n",
    "            print(x + ' is not in the graph')\n",
    "        else :\n",
    "            word_positive = float(word_tup[0]) / (float(word_tup[0]) + float(word_tup[1]))\n",
    "            print(word_positive)\n",
    "            average_sentiment_words.append(word_positive)\n",
    "    return sum(average_sentiment_words) / len(average_sentiment_words)"
   ]
  },
  {
   "cell_type": "code",
   "execution_count": 65,
   "id": "748f8cc9",
   "metadata": {},
   "outputs": [
    {
     "name": "stdout",
     "output_type": "stream",
     "text": [
      "0.8052496328928047\n",
      "0.5832438238453276\n",
      "0.39796649460735767\n",
      "0.653811169728943\n",
      "0.45931883087718106\n",
      "0.5546623794212219\n"
     ]
    },
    {
     "data": {
      "text/plain": [
       "0.5757087218954726"
      ]
     },
     "execution_count": 65,
     "metadata": {},
     "output_type": "execute_result"
    }
   ],
   "source": [
    "get_sentiment_sentence('hello alex my name is steve')"
   ]
  },
  {
   "cell_type": "code",
   "execution_count": 66,
   "id": "64e85761",
   "metadata": {},
   "outputs": [
    {
     "name": "stdout",
     "output_type": "stream",
     "text": [
      "0.384589256862147\n",
      "0.13000408496732027\n",
      "0.6517001210801684\n"
     ]
    },
    {
     "data": {
      "text/plain": [
       "0.3887644876365452"
      ]
     },
     "execution_count": 66,
     "metadata": {},
     "output_type": "execute_result"
    }
   ],
   "source": [
    "get_sentiment_sentence('I hate you')"
   ]
  },
  {
   "cell_type": "code",
   "execution_count": 106,
   "id": "81a9b794",
   "metadata": {},
   "outputs": [],
   "source": [
    "def get_next_word(last_word,is_positive) :\n",
    "    \"\"\"\n",
    "    Given the last word and whether the sentence is positive, predicts the next word.\n",
    "    \n",
    "    \n",
    "    \"\"\"\n",
    "    \n",
    "    if is_positive == 1 :\n",
    "        most_positive = 0\n",
    "        most_positive_word = ''\n",
    "        \n",
    "        node = graph.run(\"MATCH (n {label: '\"+ last_word+ \"'}) - [r] -> (x) return x order by r.Positive desc limit 1\")\n",
    "        for x in node:\n",
    "            for y in x:\n",
    "                return y['label']\n",
    "    else :\n",
    "        node = graph.run(\"MATCH (n {label: '\"+ last_word+ \"'}) - [r] -> (x) return x order by r.Negative desc limit 1\")\n",
    "        for x in node:\n",
    "            for y in x:\n",
    "                return y['label']"
   ]
  },
  {
   "cell_type": "code",
   "execution_count": 107,
   "id": "4a3db427",
   "metadata": {},
   "outputs": [
    {
     "data": {
      "text/plain": [
       "'puppy'"
      ]
     },
     "execution_count": 107,
     "metadata": {},
     "output_type": "execute_result"
    }
   ],
   "source": [
    "get_next_word('my',1)"
   ]
  },
  {
   "cell_type": "code",
   "execution_count": 108,
   "id": "d337bcd7",
   "metadata": {},
   "outputs": [
    {
     "data": {
      "text/plain": [
       "'soul'"
      ]
     },
     "execution_count": 108,
     "metadata": {},
     "output_type": "execute_result"
    }
   ],
   "source": [
    "get_next_word('my',0)"
   ]
  },
  {
   "cell_type": "code",
   "execution_count": 109,
   "id": "b0649b2e",
   "metadata": {},
   "outputs": [],
   "source": [
    "def user_input() :\n",
    "    sentence = input(\"Enter Sentence: \")\n",
    "    sentence_words = sentence.split()\n",
    "    last_word = sentence_words[-1]\n",
    "    print(last_word)\n",
    "    \n",
    "    #get next positive word\n",
    "    if get_sentiment_sentence(sentence) > 0.5 :\n",
    "        predicted_word = get_next_word(last_word,1)\n",
    "    else :\n",
    "        predicted_word = get_next_word(last_word,0)\n",
    "    \n",
    "    print(predicted_word)\n",
    "    print(sentence + ' ' + str(predicted_word))"
   ]
  },
  {
   "cell_type": "code",
   "execution_count": 110,
   "id": "d46ef546",
   "metadata": {},
   "outputs": [
    {
     "name": "stdout",
     "output_type": "stream",
     "text": [
      "Enter Sentence: hello I am \n",
      "am\n",
      "0.8052496328928047\n",
      "0.384589256862147\n",
      "0.4278129053177691\n",
      "ready\n",
      "hello I am  ready\n"
     ]
    }
   ],
   "source": [
    "user_input()"
   ]
  }
 ],
 "metadata": {
  "kernelspec": {
   "display_name": "Python 3 (ipykernel)",
   "language": "python",
   "name": "python3"
  },
  "language_info": {
   "codemirror_mode": {
    "name": "ipython",
    "version": 3
   },
   "file_extension": ".py",
   "mimetype": "text/x-python",
   "name": "python",
   "nbconvert_exporter": "python",
   "pygments_lexer": "ipython3",
   "version": "3.10.0"
  }
 },
 "nbformat": 4,
 "nbformat_minor": 5
}
